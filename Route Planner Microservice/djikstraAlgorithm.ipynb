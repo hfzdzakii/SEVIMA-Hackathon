{
 "cells": [
  {
   "cell_type": "code",
   "execution_count": null,
   "id": "8e6c6c67",
   "metadata": {},
   "outputs": [],
   "source": [
    "import itertools\n",
    "from heapq import heappush, heappop"
   ]
  },
  {
   "cell_type": "code",
   "execution_count": null,
   "id": "24f52071",
   "metadata": {},
   "outputs": [],
   "source": [
    "class Graph:\n",
    "    def __init__(self, adjacency_list):\n",
    "        self.adjacency_list = adjacency_list\n",
    "\n",
    "class Vertex:\n",
    "    def __init__(self, value):\n",
    "        self.value = value\n",
    "\n",
    "\n",
    "class Edge:\n",
    "    def __init__(self, distance, vertex):\n",
    "        self.distance = distance\n",
    "        self.vertex = vertex\n",
    "\n",
    "\n",
    "def dijkstra(graph, start, end):\n",
    "    previous = {v: None for v in graph.adjacency_list.keys()}\n",
    "    visited = {v: False for v in graph.adjacency_list.keys()}\n",
    "    distances = {v: float(\"inf\") for v in graph.adjacency_list.keys()}\n",
    "    distances[start] = 0\n",
    "    queue = PriorityQueue()\n",
    "    queue.add_task(0, start)\n",
    "    path = []\n",
    "    while queue:\n",
    "        removed_distance, removed = queue.pop_task()\n",
    "        visited[removed] = True\n",
    "        if removed is end:\n",
    "            while previous[removed]:\n",
    "                path.append(removed.value)\n",
    "                removed = previous[removed]\n",
    "            path.append(start.value)\n",
    "            print(f\"shortest distance to {end.value}: \", distances[end])\n",
    "            print(f\"path to {end.value}: \", path[::-1])\n",
    "            return\n",
    "\n",
    "        for edge in graph.adjacency_list[removed]:\n",
    "            if visited[edge.vertex]:\n",
    "                continue\n",
    "            new_distance = removed_distance + edge.distance\n",
    "            if new_distance < distances[edge.vertex]:\n",
    "                distances[edge.vertex] = new_distance\n",
    "                previous[edge.vertex] = removed\n",
    "                queue.add_task(new_distance, edge.vertex)\n",
    "    return\n",
    "\n",
    "class PriorityQueue:\n",
    "    def __init__(self):\n",
    "        self.pq = []\n",
    "        self.entry_finder = {}\n",
    "        self.counter = itertools.count()\n",
    "\n",
    "    def __len__(self):\n",
    "        return len(self.pq)\n",
    "\n",
    "    def add_task(self, priority, task):\n",
    "        if task in self.entry_finder:\n",
    "            self.update_priority(priority, task)\n",
    "            return self\n",
    "        count = next(self.counter)\n",
    "        entry = [priority, count, task]\n",
    "        self.entry_finder[task] = entry\n",
    "        heappush(self.pq, entry)\n",
    "\n",
    "    def update_priority(self, priority, task):\n",
    "        entry = self.entry_finder[task]\n",
    "        count = next(self.counter)\n",
    "        entry[0], entry[1] = priority, count\n",
    "\n",
    "    def pop_task(self):\n",
    "        while self.pq:\n",
    "            priority, count, task = heappop(self.pq)\n",
    "            del self.entry_finder[task]\n",
    "            return priority, task\n"
   ]
  },
  {
   "cell_type": "code",
   "execution_count": 5,
   "id": "74e510cc",
   "metadata": {},
   "outputs": [
    {
     "name": "stdout",
     "output_type": "stream",
     "text": [
      "shortest distance to D:  6\n",
      "path to D:  ['A', 'C', 'D']\n"
     ]
    }
   ],
   "source": [
    "vertices = [ Vertex('A'), Vertex('B'), Vertex('C'), Vertex('D'), Vertex('E')]\n",
    "\n",
    "A, B, C, D, E = vertices\n",
    "\n",
    "adjacency_list = {\n",
    "  A: [Edge(4, B), Edge(2, C)],\n",
    "  B: [Edge(4, A), Edge(3, C), Edge(2, D), Edge(3, E)],\n",
    "  C: [Edge(2, A), Edge(3, B), Edge(4, D), Edge(5, E)],\n",
    "  D: [Edge(2, B), Edge(4, C), Edge(1, E)],\n",
    "  E: [Edge(3, B), Edge(5, C), Edge(1, D)],\n",
    "}\n",
    "\n",
    "my_graph = Graph(adjacency_list)\n",
    "\n",
    "\n",
    "dijkstra(my_graph, start=A, end=D)"
   ]
  },
  {
   "cell_type": "code",
   "execution_count": null,
   "id": "20e8bc93",
   "metadata": {},
   "outputs": [],
   "source": []
  }
 ],
 "metadata": {
  "kernelspec": {
   "display_name": "MainCuda",
   "language": "python",
   "name": "python3"
  },
  "language_info": {
   "codemirror_mode": {
    "name": "ipython",
    "version": 3
   },
   "file_extension": ".py",
   "mimetype": "text/x-python",
   "name": "python",
   "nbconvert_exporter": "python",
   "pygments_lexer": "ipython3",
   "version": "3.12.9"
  }
 },
 "nbformat": 4,
 "nbformat_minor": 5
}
