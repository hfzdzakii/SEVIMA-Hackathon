{
 "cells": [
  {
   "cell_type": "code",
   "execution_count": 1,
   "id": "8e6c6c67",
   "metadata": {},
   "outputs": [],
   "source": [
    "import itertools\n",
    "from heapq import heappush, heappop"
   ]
  },
  {
   "cell_type": "code",
   "execution_count": 2,
   "id": "24f52071",
   "metadata": {},
   "outputs": [],
   "source": [
    "class Graph:\n",
    "    def __init__(self, adjacency_list):\n",
    "        self.adjacency_list = adjacency_list\n",
    "\n",
    "class Vertex:\n",
    "    def __init__(self, value):\n",
    "        self.value = value\n",
    "\n",
    "\n",
    "class Edge:\n",
    "    def __init__(self, distance, vertex):\n",
    "        self.distance = distance\n",
    "        self.vertex = vertex\n",
    "\n",
    "\n",
    "def dijkstra(graph, start, end):\n",
    "    previous = {v: None for v in graph.adjacency_list.keys()}\n",
    "    visited = {v: False for v in graph.adjacency_list.keys()}\n",
    "    distances = {v: float(\"inf\") for v in graph.adjacency_list.keys()}\n",
    "    distances[start] = 0\n",
    "    queue = PriorityQueue()\n",
    "    queue.add_task(0, start)\n",
    "    path = []\n",
    "    while queue:\n",
    "        removed_distance, removed = queue.pop_task()\n",
    "        visited[removed] = True\n",
    "        if removed is end:\n",
    "            while previous[removed]:\n",
    "                path.append(removed.value)\n",
    "                removed = previous[removed]\n",
    "            path.append(start.value)\n",
    "            print(f\"shortest distance to {end.value}: \", distances[end])\n",
    "            print(f\"path to {end.value}: \", path[::-1])\n",
    "            return\n",
    "\n",
    "        for edge in graph.adjacency_list[removed]:\n",
    "            if visited[edge.vertex]:\n",
    "                continue\n",
    "            new_distance = removed_distance + edge.distance\n",
    "            if new_distance < distances[edge.vertex]:\n",
    "                distances[edge.vertex] = new_distance\n",
    "                previous[edge.vertex] = removed\n",
    "                queue.add_task(new_distance, edge.vertex)\n",
    "    return\n",
    "\n",
    "class PriorityQueue:\n",
    "    def __init__(self):\n",
    "        self.pq = []\n",
    "        self.entry_finder = {}\n",
    "        self.counter = itertools.count()\n",
    "\n",
    "    def __len__(self):\n",
    "        return len(self.pq)\n",
    "\n",
    "    def add_task(self, priority, task):\n",
    "        if task in self.entry_finder:\n",
    "            self.update_priority(priority, task)\n",
    "            return self\n",
    "        count = next(self.counter)\n",
    "        entry = [priority, count, task]\n",
    "        self.entry_finder[task] = entry\n",
    "        heappush(self.pq, entry)\n",
    "\n",
    "    def update_priority(self, priority, task):\n",
    "        entry = self.entry_finder[task]\n",
    "        count = next(self.counter)\n",
    "        entry[0], entry[1] = priority, count\n",
    "\n",
    "    def pop_task(self):\n",
    "        while self.pq:\n",
    "            priority, count, task = heappop(self.pq)\n",
    "            del self.entry_finder[task]\n",
    "            return priority, task\n"
   ]
  },
  {
   "cell_type": "code",
   "execution_count": null,
   "id": "74e510cc",
   "metadata": {},
   "outputs": [
    {
     "name": "stdout",
     "output_type": "stream",
     "text": [
      "shortest distance to D:  6\n",
      "path to D:  ['A', 'C', 'D']\n"
     ]
    }
   ],
   "source": [
    "# vertices = [ Vertex('A'), Vertex('B'), Vertex('C'), Vertex('D'), Vertex('E')]\n",
    "\n",
    "# A, B, C, D, E = vertices\n",
    "\n",
    "# adjacency_list = {\n",
    "#   A: [Edge(4, B), Edge(2, C)],\n",
    "#   B: [Edge(4, A), Edge(3, C), Edge(2, D), Edge(3, E)],\n",
    "#   C: [Edge(2, A), Edge(3, B), Edge(4, D), Edge(5, E)],\n",
    "#   D: [Edge(2, B), Edge(4, C), Edge(1, E)],\n",
    "#   E: [Edge(3, B), Edge(5, C), Edge(1, D)],\n",
    "# }\n",
    "\n",
    "# my_graph = Graph(adjacency_list)\n",
    "\n",
    "\n",
    "# dijkstra(my_graph, start=A, end=D)"
   ]
  },
  {
   "cell_type": "code",
   "execution_count": null,
   "id": "1437dfa8",
   "metadata": {},
   "outputs": [
    {
     "data": {
      "text/plain": [
       "{<__main__.Vertex at 0x1baf59f2950>: [<__main__.Edge at 0x1baf579fdd0>,\n",
       "  <__main__.Edge at 0x1bad5446af0>],\n",
       " <__main__.Vertex at 0x1baf59b0440>: [<__main__.Edge at 0x1baf5db0100>,\n",
       "  <__main__.Edge at 0x1bad55db250>,\n",
       "  <__main__.Edge at 0x1bad55db390>,\n",
       "  <__main__.Edge at 0x1baf56c32f0>],\n",
       " <__main__.Vertex at 0x1baf59b0750>: [<__main__.Edge at 0x1baf59f0ad0>,\n",
       "  <__main__.Edge at 0x1baf59f09d0>,\n",
       "  <__main__.Edge at 0x1baf59b08a0>,\n",
       "  <__main__.Edge at 0x1baf59b0910>],\n",
       " <__main__.Vertex at 0x1baf59c70b0>: [<__main__.Edge at 0x1baf5d959d0>,\n",
       "  <__main__.Edge at 0x1baf5d958b0>,\n",
       "  <__main__.Edge at 0x1baf5d95d90>],\n",
       " <__main__.Vertex at 0x1baf5d95d30>: [<__main__.Edge at 0x1baf5d95f10>,\n",
       "  <__main__.Edge at 0x1baf5d96270>,\n",
       "  <__main__.Edge at 0x1baf5d96030>]}"
      ]
     },
     "execution_count": 12,
     "metadata": {},
     "output_type": "execute_result"
    }
   ],
   "source": [
    "# adjacency_list"
   ]
  },
  {
   "cell_type": "code",
   "execution_count": 4,
   "id": "c545bcbd",
   "metadata": {},
   "outputs": [
    {
     "name": "stdout",
     "output_type": "stream",
     "text": [
      "('A', 'B', 4)\n",
      "('A', 'C', 2)\n",
      "('B', 'A', 4)\n",
      "('B', 'C', 3)\n",
      "('B', 'D', 2)\n",
      "('B', 'E', 3)\n",
      "('C', 'A', 2)\n",
      "('C', 'B', 3)\n",
      "('C', 'E', 5)\n",
      "('C', 'D', 4)\n",
      "('D', 'B', 2)\n",
      "('D', 'C', 4)\n",
      "('D', 'E', 1)\n",
      "('E', 'C', 5)\n",
      "('E', 'B', 3)\n",
      "('E', 'D', 1)\n",
      "Columns: ['stop_1', 'stop_2', 'distance']\n"
     ]
    }
   ],
   "source": [
    "import psycopg2\n",
    "\n",
    "koneksi = psycopg2.connect(\n",
    "    host=\"localhost\",\n",
    "    database=\"route_planner\",\n",
    "    user=\"postgres\",\n",
    "    password=\"\"\n",
    ")\n",
    "\n",
    "cur = koneksi.cursor()\n",
    "\n",
    "cur.execute(\"\"\"\n",
    "SELECT \n",
    "    t1a.bus_stop_name AS stop_1,\n",
    "    t1b.bus_stop_name AS stop_2,\n",
    "    rutes.distance\n",
    "FROM \n",
    "    rutes\n",
    "    JOIN bus_stops t1a ON rutes.stop_1::integer = t1a.id\n",
    "    JOIN bus_stops t1b ON rutes.stop_2::integer = t1b.id;\n",
    "\"\"\")\n",
    "\n",
    "rows = cur.fetchall()\n",
    "\n",
    "for row in rows:\n",
    "    print(row)\n",
    "\n",
    "colnames = [desc[0] for desc in cur.description]\n",
    "print(\"Columns:\", colnames)\n",
    "\n",
    "cur.close()\n",
    "koneksi.close()\n"
   ]
  },
  {
   "cell_type": "code",
   "execution_count": 5,
   "id": "20e8bc93",
   "metadata": {},
   "outputs": [
    {
     "name": "stdout",
     "output_type": "stream",
     "text": [
      "   stop_1 stop_2  distance\n",
      "0       A      B         4\n",
      "1       A      C         2\n",
      "2       B      A         4\n",
      "3       B      C         3\n",
      "4       B      D         2\n",
      "5       B      E         3\n",
      "6       C      A         2\n",
      "7       C      B         3\n",
      "8       C      E         5\n",
      "9       C      D         4\n",
      "10      D      B         2\n",
      "11      D      C         4\n",
      "12      D      E         1\n",
      "13      E      C         5\n",
      "14      E      B         3\n",
      "15      E      D         1\n"
     ]
    }
   ],
   "source": [
    "import pandas as pd\n",
    "df = pd.DataFrame(rows, columns=colnames)\n",
    "print(df)"
   ]
  },
  {
   "cell_type": "code",
   "execution_count": 6,
   "id": "2462bb85",
   "metadata": {},
   "outputs": [
    {
     "data": {
      "text/plain": [
       "[[<__main__.Edge at 0x1baf55fb0e0>, <__main__.Edge at 0x1baf567ae90>],\n",
       " [<__main__.Edge at 0x1baf567b250>,\n",
       "  <__main__.Edge at 0x1baf5696c40>,\n",
       "  <__main__.Edge at 0x1baf5696ea0>,\n",
       "  <__main__.Edge at 0x1baf56d1b50>],\n",
       " [<__main__.Edge at 0x1baf568f020>,\n",
       "  <__main__.Edge at 0x1baf568f460>,\n",
       "  <__main__.Edge at 0x1baf570c650>,\n",
       "  <__main__.Edge at 0x1baf570c850>],\n",
       " [<__main__.Edge at 0x1baf56ca300>,\n",
       "  <__main__.Edge at 0x1baf56ca4e0>,\n",
       "  <__main__.Edge at 0x1baf570a430>],\n",
       " [<__main__.Edge at 0x1baf570a0b0>,\n",
       "  <__main__.Edge at 0x1baf5707ad0>,\n",
       "  <__main__.Edge at 0x1baf565aed0>]]"
      ]
     },
     "execution_count": 6,
     "metadata": {},
     "output_type": "execute_result"
    }
   ],
   "source": [
    "temp = []\n",
    "for stop_1 in df['stop_1'].unique():\n",
    "    temp2 = []\n",
    "    for val in df.where(df['stop_1'] == stop_1).dropna().iloc[:,1:].values:\n",
    "        temp2.append(Edge(int(val[1]), Vertex(val[0])))\n",
    "    temp.append(temp2)\n",
    "temp\n",
    "        "
   ]
  },
  {
   "cell_type": "code",
   "execution_count": 7,
   "id": "0207597f",
   "metadata": {},
   "outputs": [],
   "source": [
    "stops = []\n",
    "adjacency_lists = {}\n",
    "for i, stop_1 in enumerate(df['stop_1'].unique()):\n",
    "    ver = Vertex(stop_1)\n",
    "    adjacency_lists[ver] = temp[i]\n",
    "    stops.append(ver)"
   ]
  },
  {
   "cell_type": "code",
   "execution_count": 8,
   "id": "7a004842",
   "metadata": {},
   "outputs": [
    {
     "data": {
      "text/plain": [
       "[<__main__.Vertex at 0x1baf565b1d0>,\n",
       " <__main__.Vertex at 0x1baf56d59c0>,\n",
       " <__main__.Vertex at 0x1baf56d5b20>,\n",
       " <__main__.Vertex at 0x1bad55db9d0>,\n",
       " <__main__.Vertex at 0x1baf57298b0>]"
      ]
     },
     "execution_count": 8,
     "metadata": {},
     "output_type": "execute_result"
    }
   ],
   "source": [
    "stops"
   ]
  },
  {
   "cell_type": "code",
   "execution_count": 9,
   "id": "dd7e54d6",
   "metadata": {},
   "outputs": [
    {
     "data": {
      "text/plain": [
       "{<__main__.Vertex at 0x1baf565b1d0>: [<__main__.Edge at 0x1baf55fb0e0>,\n",
       "  <__main__.Edge at 0x1baf567ae90>],\n",
       " <__main__.Vertex at 0x1baf56d59c0>: [<__main__.Edge at 0x1baf567b250>,\n",
       "  <__main__.Edge at 0x1baf5696c40>,\n",
       "  <__main__.Edge at 0x1baf5696ea0>,\n",
       "  <__main__.Edge at 0x1baf56d1b50>],\n",
       " <__main__.Vertex at 0x1baf56d5b20>: [<__main__.Edge at 0x1baf568f020>,\n",
       "  <__main__.Edge at 0x1baf568f460>,\n",
       "  <__main__.Edge at 0x1baf570c650>,\n",
       "  <__main__.Edge at 0x1baf570c850>],\n",
       " <__main__.Vertex at 0x1bad55db9d0>: [<__main__.Edge at 0x1baf56ca300>,\n",
       "  <__main__.Edge at 0x1baf56ca4e0>,\n",
       "  <__main__.Edge at 0x1baf570a430>],\n",
       " <__main__.Vertex at 0x1baf57298b0>: [<__main__.Edge at 0x1baf570a0b0>,\n",
       "  <__main__.Edge at 0x1baf5707ad0>,\n",
       "  <__main__.Edge at 0x1baf565aed0>]}"
      ]
     },
     "execution_count": 9,
     "metadata": {},
     "output_type": "execute_result"
    }
   ],
   "source": [
    "adjacency_lists"
   ]
  },
  {
   "cell_type": "code",
   "execution_count": 10,
   "id": "4698bde0",
   "metadata": {},
   "outputs": [
    {
     "ename": "KeyError",
     "evalue": "<__main__.Vertex object at 0x000001BAD54817F0>",
     "output_type": "error",
     "traceback": [
      "\u001b[31m---------------------------------------------------------------------------\u001b[39m",
      "\u001b[31mKeyError\u001b[39m                                  Traceback (most recent call last)",
      "\u001b[36mCell\u001b[39m\u001b[36m \u001b[39m\u001b[32mIn[10]\u001b[39m\u001b[32m, line 2\u001b[39m\n\u001b[32m      1\u001b[39m my_graph = Graph(adjacency_lists)\n\u001b[32m----> \u001b[39m\u001b[32m2\u001b[39m \u001b[43mdijkstra\u001b[49m\u001b[43m(\u001b[49m\u001b[43mmy_graph\u001b[49m\u001b[43m,\u001b[49m\u001b[43m \u001b[49m\u001b[43mstart\u001b[49m\u001b[43m=\u001b[49m\u001b[43mVertex\u001b[49m\u001b[43m(\u001b[49m\u001b[33;43m'\u001b[39;49m\u001b[33;43mA\u001b[39;49m\u001b[33;43m'\u001b[39;49m\u001b[43m)\u001b[49m\u001b[43m,\u001b[49m\u001b[43m \u001b[49m\u001b[43mend\u001b[49m\u001b[43m=\u001b[49m\u001b[43mVertex\u001b[49m\u001b[43m(\u001b[49m\u001b[33;43m'\u001b[39;49m\u001b[33;43mD\u001b[39;49m\u001b[33;43m'\u001b[39;49m\u001b[43m)\u001b[49m\u001b[43m)\u001b[49m\n",
      "\u001b[36mCell\u001b[39m\u001b[36m \u001b[39m\u001b[32mIn[2]\u001b[39m\u001b[32m, line 36\u001b[39m, in \u001b[36mdijkstra\u001b[39m\u001b[34m(graph, start, end)\u001b[39m\n\u001b[32m     33\u001b[39m     \u001b[38;5;28mprint\u001b[39m(\u001b[33mf\u001b[39m\u001b[33m\"\u001b[39m\u001b[33mpath to \u001b[39m\u001b[38;5;132;01m{\u001b[39;00mend.value\u001b[38;5;132;01m}\u001b[39;00m\u001b[33m: \u001b[39m\u001b[33m\"\u001b[39m, path[::-\u001b[32m1\u001b[39m])\n\u001b[32m     34\u001b[39m     \u001b[38;5;28;01mreturn\u001b[39;00m\n\u001b[32m---> \u001b[39m\u001b[32m36\u001b[39m \u001b[38;5;28;01mfor\u001b[39;00m edge \u001b[38;5;129;01min\u001b[39;00m \u001b[43mgraph\u001b[49m\u001b[43m.\u001b[49m\u001b[43madjacency_list\u001b[49m\u001b[43m[\u001b[49m\u001b[43mremoved\u001b[49m\u001b[43m]\u001b[49m:\n\u001b[32m     37\u001b[39m     \u001b[38;5;28;01mif\u001b[39;00m visited[edge.vertex]:\n\u001b[32m     38\u001b[39m         \u001b[38;5;28;01mcontinue\u001b[39;00m\n",
      "\u001b[31mKeyError\u001b[39m: <__main__.Vertex object at 0x000001BAD54817F0>"
     ]
    }
   ],
   "source": [
    "my_graph = Graph(adjacency_lists)\n",
    "dijkstra(my_graph, start=Vertex('A'), end=Vertex('D'))"
   ]
  },
  {
   "cell_type": "code",
   "execution_count": null,
   "id": "bba4feef",
   "metadata": {},
   "outputs": [],
   "source": []
  }
 ],
 "metadata": {
  "kernelspec": {
   "display_name": "MainCuda",
   "language": "python",
   "name": "python3"
  },
  "language_info": {
   "codemirror_mode": {
    "name": "ipython",
    "version": 3
   },
   "file_extension": ".py",
   "mimetype": "text/x-python",
   "name": "python",
   "nbconvert_exporter": "python",
   "pygments_lexer": "ipython3",
   "version": "3.12.9"
  }
 },
 "nbformat": 4,
 "nbformat_minor": 5
}
