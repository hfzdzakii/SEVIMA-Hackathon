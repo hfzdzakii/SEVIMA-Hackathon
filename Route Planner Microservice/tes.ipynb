{
 "cells": [
  {
   "cell_type": "code",
   "execution_count": null,
   "id": "12454dff",
   "metadata": {
    "vscode": {
     "languageId": "plaintext"
    }
   },
   "outputs": [],
   "source": [
    "[\n",
    "  { \"stop_id\": \"A\", \"stop_name\": \"Terminal A\", \"latitude\": -6.2001, \"longitude\": 106.8166 },\n",
    "  { \"stop_id\": \"B\", \"stop_name\": \"Terminal B\", \"latitude\": -6.2010, \"longitude\": 106.8220 },\n",
    "  { \"stop_id\": \"C\", \"stop_name\": \"Stop C\",     \"latitude\": -6.1980, \"longitude\": 106.8200 },\n",
    "  { \"stop_id\": \"D\", \"stop_name\": \"Stop D\",     \"latitude\": -6.1995, \"longitude\": 106.8150 },\n",
    "  { \"stop_id\": \"E\", \"stop_name\": \"Stop E\",     \"latitude\": -6.2020, \"longitude\": 106.8180 }\n",
    "]\n",
    "\n",
    "[\n",
    "  { \"from_stop_id\": \"A\", \"to_stop_id\": \"C\", \"distance\": 2.0 },\n",
    "  { \"from_stop_id\": \"A\", \"to_stop_id\": \"D\", \"distance\": 4.0 },\n",
    "  { \"from_stop_id\": \"C\", \"to_stop_id\": \"D\", \"distance\": 1.0 },\n",
    "  { \"from_stop_id\": \"C\", \"to_stop_id\": \"B\", \"distance\": 5.0 },\n",
    "  { \"from_stop_id\": \"D\", \"to_stop_id\": \"E\", \"distance\": 3.0 },\n",
    "  { \"from_stop_id\": \"E\", \"to_stop_id\": \"B\", \"distance\": 1.0 }\n",
    "]\n"
   ]
  },
  {
   "cell_type": "code",
   "execution_count": null,
   "id": "3204e436",
   "metadata": {
    "vscode": {
     "languageId": "plaintext"
    }
   },
   "outputs": [],
   "source": [
    "Dikasih csv bus stop dan rute\n",
    "expose endpoint return "
   ]
  }
 ],
 "metadata": {
  "language_info": {
   "name": "python"
  }
 },
 "nbformat": 4,
 "nbformat_minor": 5
}
